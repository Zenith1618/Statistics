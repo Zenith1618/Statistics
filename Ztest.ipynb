{
  "nbformat": 4,
  "nbformat_minor": 0,
  "metadata": {
    "colab": {
      "provenance": [],
      "authorship_tag": "ABX9TyOWZfa2Zen7fFMLtrm5lBye",
      "include_colab_link": true
    },
    "kernelspec": {
      "name": "python3",
      "display_name": "Python 3"
    },
    "language_info": {
      "name": "python"
    }
  },
  "cells": [
    {
      "cell_type": "markdown",
      "metadata": {
        "id": "view-in-github",
        "colab_type": "text"
      },
      "source": [
        "<a href=\"https://colab.research.google.com/github/Zenith1618/Statistics/blob/main/Ztest.ipynb\" target=\"_parent\"><img src=\"https://colab.research.google.com/assets/colab-badge.svg\" alt=\"Open In Colab\"/></a>"
      ]
    },
    {
      "cell_type": "markdown",
      "source": [
        "Question: Suppose the IQ in a certain population is normally distributed with a mean = 100 and SD = 15.\n",
        "A reearcher want to know if a new drug affects IQ levels, so he recruits 20 patients to try it and records their IQ levels.\n",
        "\n",
        "The following code shows how to perform a one sample z-test in Python to determine if the new drug causes a significant difference in IQ levels."
      ],
      "metadata": {
        "id": "dEddQcHh_mGW"
      }
    },
    {
      "cell_type": "code",
      "execution_count": 1,
      "metadata": {
        "id": "HJia_xwz_lL5"
      },
      "outputs": [],
      "source": [
        "from statsmodels.stats.weightstats import ztest as ztest"
      ]
    },
    {
      "cell_type": "code",
      "source": [
        "# IQ of the 20 patients\n",
        "data = [88, 92, 94, 94, 96, 97, 97, 97, 99, 99, 105, 109, 109, 109, 110, 112, 112, 113, 114, 115]"
      ],
      "metadata": {
        "id": "bcuGkW2KAN83"
      },
      "execution_count": 6,
      "outputs": []
    },
    {
      "cell_type": "code",
      "source": [
        "ztest(data, value = 100)    #(data, mean)"
      ],
      "metadata": {
        "colab": {
          "base_uri": "https://localhost:8080/"
        },
        "id": "2TfqxbGRA-sP",
        "outputId": "84e50afb-148b-4430-b772-850e57916dac"
      },
      "execution_count": 7,
      "outputs": [
        {
          "output_type": "execute_result",
          "data": {
            "text/plain": [
              "(1.5976240527147705, 0.1101266701438426)"
            ]
          },
          "metadata": {},
          "execution_count": 7
        }
      ]
    },
    {
      "cell_type": "markdown",
      "source": [
        "(ztest, p-value)\n",
        "\n",
        "So as the p-value > 0.05(significance Value) --> Reject Null Hypothesis"
      ],
      "metadata": {
        "id": "-G8vLOO8BRFT"
      }
    },
    {
      "cell_type": "code",
      "source": [],
      "metadata": {
        "id": "0SxBbvgEBILi"
      },
      "execution_count": null,
      "outputs": []
    }
  ]
}